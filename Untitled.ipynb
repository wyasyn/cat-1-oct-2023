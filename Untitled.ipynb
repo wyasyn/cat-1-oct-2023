{
 "cells": [
  {
   "cell_type": "code",
   "execution_count": 32,
   "id": "be30f637",
   "metadata": {},
   "outputs": [],
   "source": [
    "# creating the stack\n",
    "stack = []"
   ]
  },
  {
   "cell_type": "code",
   "execution_count": 33,
   "id": "846e29cf",
   "metadata": {},
   "outputs": [],
   "source": [
    "# Adding 10 names of universities in the stack\n",
    "universities = [ \"Cavendish\", \"Makerere\", \"KIU\", \"Mbarara\", \"Kyambogo\", \"IUIU\", \"Nkumba\",\"Ndejje\", \"Bugema\",\"UCU\"]\n",
    "stack.extend(universities)"
   ]
  },
  {
   "cell_type": "code",
   "execution_count": 34,
   "id": "61d55871",
   "metadata": {},
   "outputs": [],
   "source": [
    "#remove 5 people in the stack\n",
    "for _ in range(5):\n",
    "    stack.pop()"
   ]
  },
  {
   "cell_type": "code",
   "execution_count": 35,
   "id": "f1034624",
   "metadata": {},
   "outputs": [],
   "source": [
    "# Add 8 people in the stack\n",
    "people = [ \"Alice\", \"Bob\", \"Charlie\", \"David\", \"Eve\", \"Frank\", \"Grace\", \"Hannah\" ]\n",
    "stack.extend(people)"
   ]
  },
  {
   "cell_type": "code",
   "execution_count": 36,
   "id": "530df23c",
   "metadata": {},
   "outputs": [],
   "source": [
    "# remove 13 items using pop() method\n",
    "for _ in range(13):\n",
    "    stack.pop()"
   ]
  },
  {
   "cell_type": "code",
   "execution_count": 37,
   "id": "248ba384",
   "metadata": {},
   "outputs": [
    {
     "name": "stdout",
     "output_type": "stream",
     "text": [
      "Remaining items in the stack: 0\n",
      "Items in the stack: []\n"
     ]
    }
   ],
   "source": [
    "#remaining items in the stack\n",
    "remaining_items = len(stack)\n",
    "print(\"Remaining items in the stack:\", remaining_items)\n",
    "print(\"Items in the stack:\", stack)"
   ]
  },
  {
   "cell_type": "code",
   "execution_count": 38,
   "id": "80893879",
   "metadata": {},
   "outputs": [],
   "source": [
    "# Create an empty list as a queue\n",
    "queue = []"
   ]
  },
  {
   "cell_type": "code",
   "execution_count": 39,
   "id": "1eb4e7ee",
   "metadata": {},
   "outputs": [],
   "source": [
    "# vi. Using the append() method, add ten town names to the queue\n",
    "towns = [\"Kampala\", \"Mbale\", \"Jinja\", \"Gulu\", \"Iganga\", \"Kamuli\", \"Soroti\", \"Apach\", \"Mubende\", \"Luwero\"]\n",
    "queue.extend(towns)"
   ]
  },
  {
   "cell_type": "code",
   "execution_count": 40,
   "id": "73ec7748",
   "metadata": {},
   "outputs": [],
   "source": [
    "# remove the first five names\n",
    "for _ in range(5):\n",
    "    queue.pop(0)"
   ]
  },
  {
   "cell_type": "code",
   "execution_count": 42,
   "id": "9a893cda",
   "metadata": {},
   "outputs": [],
   "source": [
    "# add name \n",
    "queue.insert(len(queue), \"Namugongo\")"
   ]
  },
  {
   "cell_type": "code",
   "execution_count": 43,
   "id": "165532a2",
   "metadata": {},
   "outputs": [],
   "source": [
    "# add name \n",
    "queue.insert(len(queue), \"Ntinda\")"
   ]
  },
  {
   "cell_type": "code",
   "execution_count": 44,
   "id": "2b2b354d",
   "metadata": {},
   "outputs": [],
   "source": [
    "# add name \n",
    "queue.insert(len(queue), \"old kampala\")"
   ]
  },
  {
   "cell_type": "code",
   "execution_count": 46,
   "id": "b64e0bc8",
   "metadata": {},
   "outputs": [],
   "source": [
    "# remove seven names from the list\n",
    "for _ in range(7):\n",
    "    queue.pop(0)"
   ]
  },
  {
   "cell_type": "code",
   "execution_count": 47,
   "id": "360dea02",
   "metadata": {},
   "outputs": [
    {
     "name": "stdout",
     "output_type": "stream",
     "text": [
      "Remaining items in the queue: 1\n",
      "Items in the queue: ['old kampala']\n"
     ]
    }
   ],
   "source": [
    "# remaining items\n",
    "remaining_items = len(queue)\n",
    "print(\"Remaining items in the queue:\", remaining_items)\n",
    "print(\"Items in the queue:\", queue)"
   ]
  },
  {
   "cell_type": "code",
   "execution_count": null,
   "id": "71ca2032",
   "metadata": {},
   "outputs": [],
   "source": []
  }
 ],
 "metadata": {
  "kernelspec": {
   "display_name": "Python 3 (ipykernel)",
   "language": "python",
   "name": "python3"
  },
  "language_info": {
   "codemirror_mode": {
    "name": "ipython",
    "version": 3
   },
   "file_extension": ".py",
   "mimetype": "text/x-python",
   "name": "python",
   "nbconvert_exporter": "python",
   "pygments_lexer": "ipython3",
   "version": "3.9.13"
  }
 },
 "nbformat": 4,
 "nbformat_minor": 5
}
